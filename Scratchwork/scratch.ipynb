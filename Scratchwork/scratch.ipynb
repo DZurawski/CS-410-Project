{
 "cells": [
  {
   "cell_type": "markdown",
   "metadata": {},
   "source": [
    "# Importing the e-mails"
   ]
  },
  {
   "cell_type": "code",
   "execution_count": null,
   "metadata": {},
   "outputs": [],
   "source": [
    "import numpy as np\n",
    "import pandas as pd\n",
    "import email"
   ]
  },
  {
   "cell_type": "code",
   "execution_count": null,
   "metadata": {},
   "outputs": [],
   "source": [
    "emails_df = pd.read_csv(\"emails.csv\")\n",
    "emails_df = emails_df.sample(n=25900, random_state=123)\n",
    "def get_text_from_email(msg):\n",
    "    '''To get the content from email objects'''\n",
    "    parts = []\n",
    "    for part in msg.walk():\n",
    "        if part.get_content_type() == 'text/plain':\n",
    "            parts.append( part.get_payload() )\n",
    "    return ''.join(parts)\n",
    "\n",
    "def split_email_addresses(line):\n",
    "    '''To separate multiple email addresses'''\n",
    "    if line:\n",
    "        addrs = line.split(',')\n",
    "        addrs = frozenset(map(lambda x: x.strip(), addrs))\n",
    "    else:\n",
    "        addrs = None\n",
    "    return addrs\n",
    "# Parse the emails into a list email objects\n",
    "messages = list(map(email.message_from_string, emails_df['message']))\n",
    "emails_df.drop('message', axis=1, inplace=True)\n",
    "# Get fields from parsed email objects\n",
    "keys = messages[0].keys()\n",
    "for key in keys:\n",
    "    emails_df[key] = [doc[key] for doc in messages]\n",
    "# Parse content from emails\n",
    "emails_df['content'] = list(map(get_text_from_email, messages))\n",
    "# Split multiple email addresses\n",
    "emails_df['From'] = emails_df['From'].map(split_email_addresses)\n",
    "emails_df['To'] = emails_df['To'].map(split_email_addresses)\n",
    "\n",
    "# Extract the root of 'file' as 'user'\n",
    "emails_df['user'] = emails_df['file'].map(lambda x:x.split('/')[0])\n",
    "del messages\n",
    "set_1 = emails_df[:25000]\n",
    "set_2 = emails_df[25000:25300]\n",
    "set_3 = emails_df[25300:25600]\n",
    "set_4 = emails_df[25600:]\n",
    "set_1.to_csv(\"emails_25000.csv\")\n",
    "set_2.to_csv(\"emails_300_set_1.csv\")\n",
    "set_3.to_csv(\"emails_300_set_2.csv\")\n",
    "set_4.to_csv(\"emails_300_set_3.csv\")"
   ]
  },
  {
   "cell_type": "markdown",
   "metadata": {},
   "source": [
    "# Prototype e-mail importance ranker"
   ]
  },
  {
   "cell_type": "code",
   "execution_count": 1,
   "metadata": {},
   "outputs": [],
   "source": [
    "import spacy\n",
    "import pandas as pd\n",
    "import sklearn.feature_extraction\n",
    "import numpy as np"
   ]
  },
  {
   "cell_type": "code",
   "execution_count": 2,
   "metadata": {},
   "outputs": [
    {
     "name": "stdout",
     "output_type": "stream",
     "text": [
      "Wall time: 7.42 s\n"
     ]
    }
   ],
   "source": [
    "%%time\n",
    "nlp = spacy.load(\"en_core_web_md\")"
   ]
  },
  {
   "cell_type": "code",
   "execution_count": 3,
   "metadata": {},
   "outputs": [
    {
     "name": "stdout",
     "output_type": "stream",
     "text": [
      "Wall time: 757 ms\n"
     ]
    }
   ],
   "source": [
    "%%time\n",
    "stop_words = sklearn.feature_extraction.stop_words.ENGLISH_STOP_WORDS\n",
    "\n",
    "def clean(doc: str) -> str:\n",
    "    doc = doc.lower()\n",
    "    doc = \"\".join([c for c in doc if c.isalpha() or c.isspace()])\n",
    "    doc = \" \".join([word for word in doc.split() if word not in stop_words])\n",
    "    return doc\n",
    "\n",
    "frame = pd.read_excel(\"Data/emails_300_set_3.xlsx\", header=1)[[\"Content\", \"Important\"]]\n",
    "important = [nlp(clean(doc)) for doc in frame[frame[\"Important\"] == True][\"Content\"]]"
   ]
  },
  {
   "cell_type": "code",
   "execution_count": 4,
   "metadata": {},
   "outputs": [],
   "source": [
    "def score(doc: str) -> float:\n",
    "    doc = nlp(doc)\n",
    "    sim_important = [doc.similarity(other) for other in important]\n",
    "    return np.mean(sim_important)"
   ]
  },
  {
   "cell_type": "code",
   "execution_count": 5,
   "metadata": {},
   "outputs": [
    {
     "name": "stdout",
     "output_type": "stream",
     "text": [
      "Wall time: 5.92 s\n"
     ]
    }
   ],
   "source": [
    "%%time\n",
    "frame = frame.assign(Score=[score(email) for email in frame[\"Content\"]])"
   ]
  },
  {
   "cell_type": "code",
   "execution_count": 6,
   "metadata": {},
   "outputs": [
    {
     "data": {
      "text/html": [
       "<div>\n",
       "<style scoped>\n",
       "    .dataframe tbody tr th:only-of-type {\n",
       "        vertical-align: middle;\n",
       "    }\n",
       "\n",
       "    .dataframe tbody tr th {\n",
       "        vertical-align: top;\n",
       "    }\n",
       "\n",
       "    .dataframe thead th {\n",
       "        text-align: right;\n",
       "    }\n",
       "</style>\n",
       "<table border=\"1\" class=\"dataframe\">\n",
       "  <thead>\n",
       "    <tr style=\"text-align: right;\">\n",
       "      <th></th>\n",
       "      <th>Content</th>\n",
       "      <th>Important</th>\n",
       "      <th>Score</th>\n",
       "    </tr>\n",
       "  </thead>\n",
       "  <tbody>\n",
       "    <tr>\n",
       "      <th>0</th>\n",
       "      <td>Dear Louise and Greg:\\r\\r\\n\\r\\r\\nFortune magaz...</td>\n",
       "      <td>False</td>\n",
       "      <td>0.765342</td>\n",
       "    </tr>\n",
       "    <tr>\n",
       "      <th>1</th>\n",
       "      <td>Hey guys,\\r\\r\\n\\r\\r\\nJust wanted to make known...</td>\n",
       "      <td>True</td>\n",
       "      <td>0.756735</td>\n",
       "    </tr>\n",
       "    <tr>\n",
       "      <th>2</th>\n",
       "      <td>Dear Ken,\\r\\r\\n\\r\\r\\nI hope you are faring oka...</td>\n",
       "      <td>True</td>\n",
       "      <td>0.756855</td>\n",
       "    </tr>\n",
       "    <tr>\n",
       "      <th>3</th>\n",
       "      <td>\\r\\r\\n&lt;html&gt;\\r\\r\\n&lt;head&gt;\\r\\r\\n&lt;title&gt;SmartRemi...</td>\n",
       "      <td>False</td>\n",
       "      <td>0.459179</td>\n",
       "    </tr>\n",
       "    <tr>\n",
       "      <th>4</th>\n",
       "      <td>There will be a Power Group Meeting this morni...</td>\n",
       "      <td>True</td>\n",
       "      <td>0.702207</td>\n",
       "    </tr>\n",
       "    <tr>\n",
       "      <th>5</th>\n",
       "      <td>---------------------- Forwarded by Kay Mann/C...</td>\n",
       "      <td>True</td>\n",
       "      <td>0.795505</td>\n",
       "    </tr>\n",
       "    <tr>\n",
       "      <th>6</th>\n",
       "      <td>---------------------- Forwarded by Tana Jones...</td>\n",
       "      <td>False</td>\n",
       "      <td>0.456868</td>\n",
       "    </tr>\n",
       "    <tr>\n",
       "      <th>7</th>\n",
       "      <td>\\r\\r\\nAs things begin to calm down somewhat af...</td>\n",
       "      <td>True</td>\n",
       "      <td>0.753594</td>\n",
       "    </tr>\n",
       "    <tr>\n",
       "      <th>8</th>\n",
       "      <td>Have you guys looked into this or shall I?  Le...</td>\n",
       "      <td>False</td>\n",
       "      <td>0.752637</td>\n",
       "    </tr>\n",
       "    <tr>\n",
       "      <th>9</th>\n",
       "      <td>Please note the following changes:\\r\\r\\nAmeren...</td>\n",
       "      <td>False</td>\n",
       "      <td>0.643995</td>\n",
       "    </tr>\n",
       "  </tbody>\n",
       "</table>\n",
       "</div>"
      ],
      "text/plain": [
       "                                             Content  Important     Score\n",
       "0  Dear Louise and Greg:\\r\\r\\n\\r\\r\\nFortune magaz...      False  0.765342\n",
       "1  Hey guys,\\r\\r\\n\\r\\r\\nJust wanted to make known...       True  0.756735\n",
       "2  Dear Ken,\\r\\r\\n\\r\\r\\nI hope you are faring oka...       True  0.756855\n",
       "3  \\r\\r\\n<html>\\r\\r\\n<head>\\r\\r\\n<title>SmartRemi...      False  0.459179\n",
       "4  There will be a Power Group Meeting this morni...       True  0.702207\n",
       "5  ---------------------- Forwarded by Kay Mann/C...       True  0.795505\n",
       "6  ---------------------- Forwarded by Tana Jones...      False  0.456868\n",
       "7  \\r\\r\\nAs things begin to calm down somewhat af...       True  0.753594\n",
       "8  Have you guys looked into this or shall I?  Le...      False  0.752637\n",
       "9  Please note the following changes:\\r\\r\\nAmeren...      False  0.643995"
      ]
     },
     "execution_count": 6,
     "metadata": {},
     "output_type": "execute_result"
    }
   ],
   "source": [
    "frame.head(10)"
   ]
  }
 ],
 "metadata": {
  "kernelspec": {
   "display_name": "Python 3",
   "language": "python",
   "name": "python3"
  },
  "language_info": {
   "codemirror_mode": {
    "name": "ipython",
    "version": 3
   },
   "file_extension": ".py",
   "mimetype": "text/x-python",
   "name": "python",
   "nbconvert_exporter": "python",
   "pygments_lexer": "ipython3",
   "version": "3.6.5"
  }
 },
 "nbformat": 4,
 "nbformat_minor": 2
}
