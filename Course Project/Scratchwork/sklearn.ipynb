{
 "cells": [
  {
   "cell_type": "markdown",
   "metadata": {},
   "source": [
    "# Building an E-Mail Importance Scorer using SKLearn\n",
    "* I begin with a set of documents, each labeled as either \"important\" or \"unimportant\".\n",
    "* I create two sets: an important set filled with the important e-mails and an unimportant set filled with unimportant e-mails.\n",
    "* Then I train two TF-IDF vectorizers. The \"important\" vectorizer is trained with the important e-mails. The \"unimportant\" vectorizer is trained with the unimportant e-mails.\n",
    "* I then run the important set through the important vectorizer to get an important vector and the unimportant set through the unimportant vectorizer to get an unimportant vector.\n",
    "* Given a new e-mail, I run it through the important vectorizer to get a vector. I use average cosine-similarity to measure this vector to the important vector. Then I run the e-mail through the unimportant vectorizer to get a vector. Again, I use average cosine-similarity to measure this vector to the unimportant vector.  \n",
    "Finally, I calculate the score \"0.5 + (similarity_to_important - similarity_to_unimportant) / 2"
   ]
  },
  {
   "cell_type": "code",
   "execution_count": 151,
   "metadata": {},
   "outputs": [],
   "source": [
    "import numpy as np\n",
    "import pandas as pd\n",
    "import sklearn.feature_extraction"
   ]
  },
  {
   "cell_type": "code",
   "execution_count": 152,
   "metadata": {},
   "outputs": [],
   "source": [
    "STOP_WORDS = sklearn.feature_extraction.stop_words.ENGLISH_STOP_WORDS\n",
    "\n",
    "def clean(doc: str) -> str:\n",
    "    \"\"\" Prepare a document for processing. \"\"\"\n",
    "    doc = doc.lower()\n",
    "    doc = \"\".join([c for c in doc if c.isalpha() or c.isspace()])\n",
    "    doc = \" \".join([word for word in doc.split() if word not in STOP_WORDS])\n",
    "    return doc"
   ]
  },
  {
   "cell_type": "code",
   "execution_count": 153,
   "metadata": {},
   "outputs": [],
   "source": [
    "columns = [\"Content\", \"Important\"]\n",
    "train = pd.concat([\n",
    "    pd.read_excel(\"Data/emails_300_set_1.xlsx\", header=1)[columns],\n",
    "    pd.read_excel(\"Data/emails_300_set_2.xlsx\", header=1)[columns]\n",
    "])\n",
    "test = pd.read_excel(\"Data/emails_300_set_3.xlsx\", header=1)[columns]"
   ]
  },
  {
   "cell_type": "code",
   "execution_count": 154,
   "metadata": {},
   "outputs": [
    {
     "data": {
      "text/html": [
       "<div>\n",
       "<style scoped>\n",
       "    .dataframe tbody tr th:only-of-type {\n",
       "        vertical-align: middle;\n",
       "    }\n",
       "\n",
       "    .dataframe tbody tr th {\n",
       "        vertical-align: top;\n",
       "    }\n",
       "\n",
       "    .dataframe thead th {\n",
       "        text-align: right;\n",
       "    }\n",
       "</style>\n",
       "<table border=\"1\" class=\"dataframe\">\n",
       "  <thead>\n",
       "    <tr style=\"text-align: right;\">\n",
       "      <th></th>\n",
       "      <th>Content</th>\n",
       "      <th>Important</th>\n",
       "    </tr>\n",
       "  </thead>\n",
       "  <tbody>\n",
       "    <tr>\n",
       "      <th>0</th>\n",
       "      <td>\\r\\n\\r\\nAt the request of Patrice Thurston, pl...</td>\n",
       "      <td>0.0</td>\n",
       "    </tr>\n",
       "    <tr>\n",
       "      <th>1</th>\n",
       "      <td>Pursuant to the various discussions over the p...</td>\n",
       "      <td>1.0</td>\n",
       "    </tr>\n",
       "    <tr>\n",
       "      <th>2</th>\n",
       "      <td>Get ready.  Beginning in November, electronic ...</td>\n",
       "      <td>1.0</td>\n",
       "    </tr>\n",
       "  </tbody>\n",
       "</table>\n",
       "</div>"
      ],
      "text/plain": [
       "                                             Content  Important\n",
       "0  \\r\\n\\r\\nAt the request of Patrice Thurston, pl...        0.0\n",
       "1  Pursuant to the various discussions over the p...        1.0\n",
       "2  Get ready.  Beginning in November, electronic ...        1.0"
      ]
     },
     "execution_count": 154,
     "metadata": {},
     "output_type": "execute_result"
    }
   ],
   "source": [
    "train.head(3)"
   ]
  },
  {
   "cell_type": "code",
   "execution_count": 155,
   "metadata": {},
   "outputs": [
    {
     "data": {
      "text/html": [
       "<div>\n",
       "<style scoped>\n",
       "    .dataframe tbody tr th:only-of-type {\n",
       "        vertical-align: middle;\n",
       "    }\n",
       "\n",
       "    .dataframe tbody tr th {\n",
       "        vertical-align: top;\n",
       "    }\n",
       "\n",
       "    .dataframe thead th {\n",
       "        text-align: right;\n",
       "    }\n",
       "</style>\n",
       "<table border=\"1\" class=\"dataframe\">\n",
       "  <thead>\n",
       "    <tr style=\"text-align: right;\">\n",
       "      <th></th>\n",
       "      <th>Content</th>\n",
       "      <th>Important</th>\n",
       "    </tr>\n",
       "  </thead>\n",
       "  <tbody>\n",
       "    <tr>\n",
       "      <th>0</th>\n",
       "      <td>Dear Louise and Greg:\\r\\r\\n\\r\\r\\nFortune magaz...</td>\n",
       "      <td>False</td>\n",
       "    </tr>\n",
       "    <tr>\n",
       "      <th>1</th>\n",
       "      <td>Hey guys,\\r\\r\\n\\r\\r\\nJust wanted to make known...</td>\n",
       "      <td>True</td>\n",
       "    </tr>\n",
       "    <tr>\n",
       "      <th>2</th>\n",
       "      <td>Dear Ken,\\r\\r\\n\\r\\r\\nI hope you are faring oka...</td>\n",
       "      <td>True</td>\n",
       "    </tr>\n",
       "  </tbody>\n",
       "</table>\n",
       "</div>"
      ],
      "text/plain": [
       "                                             Content  Important\n",
       "0  Dear Louise and Greg:\\r\\r\\n\\r\\r\\nFortune magaz...      False\n",
       "1  Hey guys,\\r\\r\\n\\r\\r\\nJust wanted to make known...       True\n",
       "2  Dear Ken,\\r\\r\\n\\r\\r\\nI hope you are faring oka...       True"
      ]
     },
     "execution_count": 155,
     "metadata": {},
     "output_type": "execute_result"
    }
   ],
   "source": [
    "test.head(3)"
   ]
  },
  {
   "cell_type": "code",
   "execution_count": 156,
   "metadata": {},
   "outputs": [],
   "source": [
    "tr_important   = [clean(d) for d in train[train[\"Important\"] == 1][\"Content\"]]\n",
    "tr_unimportant = [clean(d) for d in train[train[\"Important\"] == 0][\"Content\"]]\n",
    "te_important   = [clean(d) for d in test[test[\"Important\"] == 1][\"Content\"]]\n",
    "te_unimportant = [clean(d) for d in test[test[\"Important\"] == 0][\"Content\"]]"
   ]
  },
  {
   "cell_type": "code",
   "execution_count": 157,
   "metadata": {},
   "outputs": [],
   "source": [
    "from sklearn.metrics.pairwise import cosine_similarity\n",
    "from sklearn.feature_extraction.text import CountVectorizer\n",
    "from sklearn.feature_extraction.text import TfidfVectorizer"
   ]
  },
  {
   "cell_type": "code",
   "execution_count": 169,
   "metadata": {},
   "outputs": [],
   "source": [
    "vec_i = TfidfVectorizer()\n",
    "vec_u = TfidfVectorizer()\n",
    "trans_i = vec_i.fit_transform(tr_important)\n",
    "trans_u = vec_u.fit_transform(tr_unimportant)\n",
    "\n",
    "def score(doc: str) -> float:\n",
    "    trans_doc_i = vec_i.transform(doc)\n",
    "    trans_doc_u = vec_u.transform(doc)\n",
    "    sim_i = cosine_similarity(trans_doc_i, trans_i).mean(axis=1)\n",
    "    sim_u = cosine_similarity(trans_doc_u, trans_u).mean(axis=1)\n",
    "    return 0.5 + (sim_i - sim_u) / 2"
   ]
  },
  {
   "cell_type": "code",
   "execution_count": 170,
   "metadata": {},
   "outputs": [
    {
     "name": "stdout",
     "output_type": "stream",
     "text": [
      "Percent classified as important: 0.9292929292929293\n",
      "[0.50150519 0.50067201 0.50110205 0.50781734 0.5031217  0.50147309\n",
      " 0.50104478 0.50099364 0.50128166 0.5011009  0.50039853 0.5046933\n",
      " 0.50180411 0.50143349 0.50326282 0.50287289 0.49963065 0.50266377\n",
      " 0.50305432 0.50072138 0.50040259 0.50148278 0.49984627 0.50420662\n",
      " 0.50351152 0.50310949 0.50005209 0.50038197 0.50227731 0.50175771\n",
      " 0.5011842  0.50090374 0.50174217 0.50423661 0.50003605 0.50151282\n",
      " 0.50183769 0.50181869 0.5008755  0.50104496 0.50341875 0.50219764\n",
      " 0.49493427 0.50388944 0.50135183 0.50129513 0.49983187 0.50306095\n",
      " 0.50379419 0.50251769 0.50209894 0.50309446 0.50163591 0.49977558\n",
      " 0.4998795  0.50136686 0.50146167 0.50066877 0.50505038 0.5017485\n",
      " 0.50292082 0.50275816 0.50373073 0.50137574 0.50180273 0.50398679\n",
      " 0.50134761 0.5019294  0.49954458 0.50066097 0.50246768 0.50066092\n",
      " 0.50266694 0.50150533 0.5011317  0.50212163 0.50399296 0.50088664\n",
      " 0.50143359 0.50228953 0.50283545 0.50099391 0.50100684 0.50271956\n",
      " 0.50389476 0.50178393 0.50134349 0.50493587 0.50290147 0.5015178\n",
      " 0.50190588 0.50363078 0.50248432 0.50097028 0.50113375 0.50230129\n",
      " 0.50445716 0.50205282 0.502452  ]\n"
     ]
    }
   ],
   "source": [
    "print(\"Percent classified as important:\", (score(te_important) > 0.5).mean())\n",
    "print(score(te_important))"
   ]
  },
  {
   "cell_type": "code",
   "execution_count": 171,
   "metadata": {},
   "outputs": [
    {
     "name": "stdout",
     "output_type": "stream",
     "text": [
      "Percent classified as important: 0.7761194029850746\n",
      "[0.50216358 0.49866878 0.50345915 0.5028035  0.50251898 0.50575787\n",
      " 0.50112383 0.50272306 0.50331736 0.50056681 0.50530604 0.50040787\n",
      " 0.50058973 0.49985998 0.50038944 0.49858586 0.50357208 0.50466133\n",
      " 0.50059664 0.50107763 0.50197344 0.50148135 0.50221642 0.50334748\n",
      " 0.50015269 0.50077929 0.50230439 0.50275368 0.50220206 0.50039398\n",
      " 0.50136748 0.49811215 0.50078295 0.5012593  0.50203964 0.50046991\n",
      " 0.49769813 0.50098469 0.50008859 0.49996757 0.50218436 0.50037214\n",
      " 0.50083323 0.502708   0.5048503  0.50068891 0.50025614 0.49951834\n",
      " 0.50297047 0.50138035 0.50054933 0.50234459 0.50558529 0.49855503\n",
      " 0.50282112 0.4986806  0.49907473 0.49866517 0.50093291 0.4992527\n",
      " 0.50162046 0.50175962 0.50253579 0.49931245 0.49984686 0.50156146\n",
      " 0.49930681 0.50119103 0.50322641 0.50090404 0.50172339 0.50150958\n",
      " 0.50616419 0.50017516 0.50044753 0.50165621 0.50314462 0.50241621\n",
      " 0.49884559 0.49918095 0.49883827 0.50241539 0.50365373 0.50342866\n",
      " 0.50566312 0.49944858 0.49979616 0.50285971 0.49913646 0.50325406\n",
      " 0.5035124  0.50111469 0.50169735 0.50059826 0.50319565 0.49933262\n",
      " 0.49984882 0.50078707 0.50324457 0.50195251 0.50300067 0.50013775\n",
      " 0.5011065  0.50092602 0.50098081 0.50313881 0.50275658 0.49996606\n",
      " 0.50152408 0.5049575  0.49980083 0.50290336 0.5028582  0.50129949\n",
      " 0.50149835 0.50065893 0.50196291 0.5042095  0.50498197 0.50385234\n",
      " 0.5012162  0.5008329  0.50200784 0.5053158  0.50203988 0.50326105\n",
      " 0.49819184 0.50165311 0.49825635 0.50239726 0.49929371 0.50082826\n",
      " 0.50132367 0.50059086 0.49972646 0.49813382 0.50222757 0.50097561\n",
      " 0.50150841 0.50001869 0.49992393 0.49831933 0.50171772 0.49939321\n",
      " 0.50346671 0.50135208 0.50198947 0.50041766 0.49920941 0.50326103\n",
      " 0.50397423 0.4994858  0.5033112  0.50332941 0.49884848 0.50240844\n",
      " 0.50263628 0.4994548  0.49868443 0.50161554 0.50410421 0.50563691\n",
      " 0.50031814 0.50284603 0.50284286 0.50175854 0.50266128 0.50018516\n",
      " 0.49834663 0.50070012 0.49379488 0.5002295  0.50287962 0.50073966\n",
      " 0.50294671 0.50246208 0.49939272 0.50226352 0.50197949 0.50133688\n",
      " 0.50428809 0.50125256 0.50175748 0.50176628 0.49962556 0.50093834\n",
      " 0.5029342  0.50293182 0.50107597 0.5        0.50048736 0.50033643\n",
      " 0.50304213 0.50519026 0.50080758 0.49767319 0.49737809 0.50068518\n",
      " 0.50509309 0.50066641 0.50316777]\n"
     ]
    }
   ],
   "source": [
    "print(\"Percent classified as important:\", (score(te_unimportant) > 0.5).mean())\n",
    "print(score(te_unimportant))"
   ]
  }
 ],
 "metadata": {
  "kernelspec": {
   "display_name": "Python 3",
   "language": "python",
   "name": "python3"
  },
  "language_info": {
   "codemirror_mode": {
    "name": "ipython",
    "version": 3
   },
   "file_extension": ".py",
   "mimetype": "text/x-python",
   "name": "python",
   "nbconvert_exporter": "python",
   "pygments_lexer": "ipython3",
   "version": "3.6.5"
  }
 },
 "nbformat": 4,
 "nbformat_minor": 2
}
