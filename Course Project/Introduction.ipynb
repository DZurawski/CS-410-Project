{
 "cells": [
  {
   "cell_type": "code",
   "execution_count": 1,
   "metadata": {},
   "outputs": [
    {
     "name": "stdout",
     "output_type": "stream",
     "text": [
      "Wall time: 24.1 s\n"
     ]
    }
   ],
   "source": [
    "%%time\n",
    "import pandas as pd\n",
    "import spacy\n",
    "import etools.ranker as erank\n",
    "import etools.summarizer as esum\n",
    "from sklearn.feature_extraction.stop_words import ENGLISH_STOP_WORDS"
   ]
  },
  {
   "cell_type": "code",
   "execution_count": 2,
   "metadata": {},
   "outputs": [
    {
     "data": {
      "text/html": [
       "<div>\n",
       "<style scoped>\n",
       "    .dataframe tbody tr th:only-of-type {\n",
       "        vertical-align: middle;\n",
       "    }\n",
       "\n",
       "    .dataframe tbody tr th {\n",
       "        vertical-align: top;\n",
       "    }\n",
       "\n",
       "    .dataframe thead th {\n",
       "        text-align: right;\n",
       "    }\n",
       "</style>\n",
       "<table border=\"1\" class=\"dataframe\">\n",
       "  <thead>\n",
       "    <tr style=\"text-align: right;\">\n",
       "      <th></th>\n",
       "      <th>Content</th>\n",
       "      <th>Important</th>\n",
       "    </tr>\n",
       "  </thead>\n",
       "  <tbody>\n",
       "    <tr>\n",
       "      <th>0</th>\n",
       "      <td>\\r\\n\\r\\nAt the request of Patrice Thurston, pl...</td>\n",
       "      <td>0.0</td>\n",
       "    </tr>\n",
       "    <tr>\n",
       "      <th>1</th>\n",
       "      <td>Pursuant to the various discussions over the p...</td>\n",
       "      <td>1.0</td>\n",
       "    </tr>\n",
       "    <tr>\n",
       "      <th>2</th>\n",
       "      <td>Get ready.  Beginning in November, electronic ...</td>\n",
       "      <td>1.0</td>\n",
       "    </tr>\n",
       "    <tr>\n",
       "      <th>3</th>\n",
       "      <td>Brad,\\r\\n\\r\\nI have contributed $3000 this yea...</td>\n",
       "      <td>0.0</td>\n",
       "    </tr>\n",
       "    <tr>\n",
       "      <th>4</th>\n",
       "      <td>Juan tells me that everything will be moved to...</td>\n",
       "      <td>1.0</td>\n",
       "    </tr>\n",
       "  </tbody>\n",
       "</table>\n",
       "</div>"
      ],
      "text/plain": [
       "                                             Content  Important\n",
       "0  \\r\\n\\r\\nAt the request of Patrice Thurston, pl...        0.0\n",
       "1  Pursuant to the various discussions over the p...        1.0\n",
       "2  Get ready.  Beginning in November, electronic ...        1.0\n",
       "3  Brad,\\r\\n\\r\\nI have contributed $3000 this yea...        0.0\n",
       "4  Juan tells me that everything will be moved to...        1.0"
      ]
     },
     "execution_count": 2,
     "metadata": {},
     "output_type": "execute_result"
    }
   ],
   "source": [
    "test = pd.read_excel(\"emails_300_set_1.xlsx\", header=1)[[\"Content\", \"Important\"]]\n",
    "test.head(5)"
   ]
  },
  {
   "cell_type": "code",
   "execution_count": 3,
   "metadata": {
    "scrolled": true
   },
   "outputs": [
    {
     "name": "stdout",
     "output_type": "stream",
     "text": [
      "Dear Enron's topmanagement,\n",
      "We are not only concerned on the crashed stock but also Enron's\n",
      "situation in Japan. The business here is too difficult!!!\n",
      "How do you know the current situation here:\n",
      "\n",
      "  > Bad Reputation in Japan - if you say you are from Enron people will say \n",
      "\"No\"\n",
      "  > Ignorance of Japanese Business - wasting many time on TOCOM, a market\n",
      "    controlled by mafia, those minor comnies want to cheat Enron's money\n",
      "  > Unsatisfactory business environment - deregulation will not proceed in \n",
      "three\n",
      "    years\n",
      "  > Poor manegment - the office is like a kindergarden, the so called \n",
      "\"experts\"\n",
      "    have serious discrimmination with local staff; They do nothing \n",
      "themselves just\n",
      "    ask the local \"slave\" to work hard and they go to vacation or business \n",
      "trip\n",
      "  > \"Sato\" means sweet in Japanese but Sato Project is not so sweet as you \n",
      "think!\n",
      "    Have you expected another \"E-power\"?\n",
      "\n",
      "I have to say we are so dispointed with Enron!!!! Enron Japan is at the \n",
      "entrance\n",
      "of \"Bermuda Triangle\", we worry when will it dispear?\n",
      "\n",
      "Sato\n",
      "Enron Japan\n",
      "\n",
      "_________________________________________________________________\n",
      "Get your FREE download of MSN Explorer at http://explorer.msn.com/intl.asp\n"
     ]
    }
   ],
   "source": [
    "email = test[\"Content\"][11]\n",
    "print(email)"
   ]
  },
  {
   "cell_type": "code",
   "execution_count": 4,
   "metadata": {},
   "outputs": [
    {
     "data": {
      "text/plain": [
       "['sato', 'japan', 'sweet', 'business', 'say']"
      ]
     },
     "execution_count": 4,
     "metadata": {},
     "output_type": "execute_result"
    }
   ],
   "source": [
    "esum.significant_words(email)"
   ]
  },
  {
   "cell_type": "code",
   "execution_count": 5,
   "metadata": {},
   "outputs": [
    {
     "name": "stdout",
     "output_type": "stream",
     "text": [
      "\n",
      " How do you know the current situation here: > Bad Reputation in Japan - if you say you are from Enron people will say \"No\" > Ignorance of Japanese Business - wasting many time on TOCOM, a market controlled by mafia, those minor comnies want to cheat Enron's money > \n",
      "\n",
      "\n",
      " Unsatisfactory business environment - deregulation will not proceed in three years > Poor manegment - the office is like a kindergarden, the so called \"experts\" have serious discrimmination with local staff; They do nothing themselves just ask the local \"slave\" to work hard and they go to vacation or business trip \n",
      "\n"
     ]
    }
   ],
   "source": [
    "for sentence in esum.significant_sentences(email):\n",
    "    print(\"\\n\", sentence, \"\\n\")"
   ]
  },
  {
   "cell_type": "code",
   "execution_count": 6,
   "metadata": {},
   "outputs": [
    {
     "name": "stdout",
     "output_type": "stream",
     "text": [
      "\n",
      " How do you know the current situation here: > Bad Reputation in Japan - if you say you are from Enron people will say \"No\" > Ignorance of Japanese Business - wasting many time on TOCOM, a market controlled by mafia, those minor comnies want to cheat Enron's money > \n",
      "\n",
      "\n",
      " Dear Enron's topmanagement, We are not only concerned on the crashed stock but also Enron's situation in Japan. \n",
      "\n"
     ]
    }
   ],
   "source": [
    "for sentence in esum.summarizing_sentences(email):\n",
    "    print(\"\\n\", sentence, \"\\n\")"
   ]
  },
  {
   "cell_type": "code",
   "execution_count": 7,
   "metadata": {},
   "outputs": [
    {
     "data": {
      "text/plain": [
       "0.98007029827498127"
      ]
     },
     "execution_count": 7,
     "metadata": {},
     "output_type": "execute_result"
    }
   ],
   "source": [
    "erank.score(email)"
   ]
  },
  {
   "cell_type": "code",
   "execution_count": 8,
   "metadata": {},
   "outputs": [
    {
     "data": {
      "text/plain": [
       "True"
      ]
     },
     "execution_count": 8,
     "metadata": {},
     "output_type": "execute_result"
    }
   ],
   "source": [
    "erank.is_important(email)"
   ]
  }
 ],
 "metadata": {
  "kernelspec": {
   "display_name": "Python 3",
   "language": "python",
   "name": "python3"
  },
  "language_info": {
   "codemirror_mode": {
    "name": "ipython",
    "version": 3
   },
   "file_extension": ".py",
   "mimetype": "text/x-python",
   "name": "python",
   "nbconvert_exporter": "python",
   "pygments_lexer": "ipython3",
   "version": "3.6.5"
  }
 },
 "nbformat": 4,
 "nbformat_minor": 2
}
