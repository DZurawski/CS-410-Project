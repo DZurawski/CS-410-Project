{
 "cells": [
  {
   "cell_type": "markdown",
   "metadata": {},
   "source": [
    "# Load the libraries and train spaCy model on the training data"
   ]
  },
  {
   "cell_type": "code",
   "execution_count": 1,
   "metadata": {},
   "outputs": [
    {
     "name": "stderr",
     "output_type": "stream",
     "text": [
      "C:\\Users\\soukaev\\AppData\\Local\\Continuum\\Anaconda3\\lib\\site-packages\\sklearn\\base.py:312: UserWarning: Trying to unpickle estimator TfidfTransformer from version 0.19.1 when using version 0.19.0. This might lead to breaking code or invalid results. Use at your own risk.\n",
      "  UserWarning)\n",
      "C:\\Users\\soukaev\\AppData\\Local\\Continuum\\Anaconda3\\lib\\site-packages\\sklearn\\base.py:312: UserWarning: Trying to unpickle estimator TfidfVectorizer from version 0.19.1 when using version 0.19.0. This might lead to breaking code or invalid results. Use at your own risk.\n",
      "  UserWarning)\n"
     ]
    },
    {
     "name": "stdout",
     "output_type": "stream",
     "text": [
      "Wall time: 31.8 s\n"
     ]
    }
   ],
   "source": [
    "%%time\n",
    "import etools.ranker as erank\n",
    "import etools.summarizer as esum"
   ]
  },
  {
   "cell_type": "markdown",
   "metadata": {
    "collapsed": true
   },
   "source": [
    "# Load the test file and do a spot check"
   ]
  },
  {
   "cell_type": "code",
   "execution_count": 8,
   "metadata": {},
   "outputs": [
    {
     "data": {
      "text/html": [
       "<div>\n",
       "<style>\n",
       "    .dataframe thead tr:only-child th {\n",
       "        text-align: right;\n",
       "    }\n",
       "\n",
       "    .dataframe thead th {\n",
       "        text-align: left;\n",
       "    }\n",
       "\n",
       "    .dataframe tbody tr th {\n",
       "        vertical-align: top;\n",
       "    }\n",
       "</style>\n",
       "<table border=\"1\" class=\"dataframe\">\n",
       "  <thead>\n",
       "    <tr style=\"text-align: right;\">\n",
       "      <th></th>\n",
       "      <th>Content</th>\n",
       "      <th>Important</th>\n",
       "    </tr>\n",
       "  </thead>\n",
       "  <tbody>\n",
       "    <tr>\n",
       "      <th>0</th>\n",
       "      <td>Dear Louise and Greg:\\r\\r\\n\\r\\r\\nFortune magaz...</td>\n",
       "      <td>False</td>\n",
       "    </tr>\n",
       "    <tr>\n",
       "      <th>1</th>\n",
       "      <td>Hey guys,\\r\\r\\n\\r\\r\\nJust wanted to make known...</td>\n",
       "      <td>True</td>\n",
       "    </tr>\n",
       "    <tr>\n",
       "      <th>2</th>\n",
       "      <td>Dear Ken,\\r\\r\\n\\r\\r\\nI hope you are faring oka...</td>\n",
       "      <td>True</td>\n",
       "    </tr>\n",
       "    <tr>\n",
       "      <th>3</th>\n",
       "      <td>\\r\\r\\n&lt;html&gt;\\r\\r\\n&lt;head&gt;\\r\\r\\n&lt;title&gt;SmartRemi...</td>\n",
       "      <td>False</td>\n",
       "    </tr>\n",
       "    <tr>\n",
       "      <th>4</th>\n",
       "      <td>There will be a Power Group Meeting this morni...</td>\n",
       "      <td>True</td>\n",
       "    </tr>\n",
       "  </tbody>\n",
       "</table>\n",
       "</div>"
      ],
      "text/plain": [
       "                                             Content  Important\n",
       "0  Dear Louise and Greg:\\r\\r\\n\\r\\r\\nFortune magaz...      False\n",
       "1  Hey guys,\\r\\r\\n\\r\\r\\nJust wanted to make known...       True\n",
       "2  Dear Ken,\\r\\r\\n\\r\\r\\nI hope you are faring oka...       True\n",
       "3  \\r\\r\\n<html>\\r\\r\\n<head>\\r\\r\\n<title>SmartRemi...      False\n",
       "4  There will be a Power Group Meeting this morni...       True"
      ]
     },
     "execution_count": 8,
     "metadata": {},
     "output_type": "execute_result"
    }
   ],
   "source": [
    "import pandas as pd\n",
    "\n",
    "test = pd.read_excel(\"emails_300_set_3.xlsx\", header=1)[[\"Content\", \"Important\"]]\n",
    "test.head(5)"
   ]
  },
  {
   "cell_type": "markdown",
   "metadata": {},
   "source": [
    "## Pick a random email and print it"
   ]
  },
  {
   "cell_type": "code",
   "execution_count": 9,
   "metadata": {
    "scrolled": true
   },
   "outputs": [
    {
     "name": "stdout",
     "output_type": "stream",
     "text": [
      "Hey guys,\n",
      "\n",
      "Just wanted to make known my concerns on this issue.  While I agree that \n",
      "Howard, Robert and George needed to work on this together, I do not think \n",
      "that Howard should have been the driving force behind this.  Once we left the \n",
      "meeting, they all convened on the 37th floor and worked from Howard's desk - \n",
      "with Howard sitting down doing much of the work.  I also think that the below \n",
      "e-mail should not have come from Howard, but should have originated out of \n",
      "the Logistics group.  I understand that Howard has prior scheduling \n",
      "experience, but he is not functioning in a scheduling role now and bascially \n",
      "took on that role in getting this set up correctly.  He too had to sit down \n",
      "and try to figure out what needed to be done and set everything up correctly \n",
      "(?).  In my opinion this is a kudoo for Howard for stepping up, but I am \n",
      "concerned at the role that he played.  Team effort is important and it's what \n",
      "we all want between our groups, but I want to ensure that everyone does their \n",
      "fair share and expectations are appropriately placed.  Let me know what you \n",
      "both think.  Thanks!\n",
      "---------------------- Forwarded by Rita Wynne/HOU/ECT on 02/22/2000 01:31 PM \n",
      "---------------------------\n",
      "\n",
      "\n",
      "Howard B Camp\n",
      "02/17/2000 05:55 PM\n",
      "To: Aimee Lannou/HOU/ECT@ECT\n",
      "cc: Fred Boas/HOU/ECT@ECT, Robert E Lloyd/HOU/ECT@ECT, Howard B \n",
      "Camp/HOU/ECT@ECT, Gregory Steagall/HOU/ECT@ECT, Daren J Farmer/HOU/ECT@ECT, \n",
      "George Grant/HOU/ECT@ECT, Kenny J Soignet/HOU/ECT@ECT, Rita Wynne/HOU/ECT@ECT \n",
      "Subject: Cilco Pathing - Withdrawl and HPLC transport pathing\n",
      "\n",
      "\n",
      "Cilco needs to be pathed the following way on a withdrawl day or month\n",
      "   The pathing that was done for December 1999 and January 2000 worked.\n",
      "\n",
      "Source                                                                       \n",
      "Path                                                                          \n",
      "                             Destination\n",
      "                                                                              \n",
      "              \n",
      "012-27049-05-001/Stg/F                                       012-27049-05-001 \n",
      "Firm Storage                                                   External \n",
      "Bammel - Meter 56l\n",
      "Storage \n",
      "Account                                                                       \n",
      "                                                                              \n",
      "               Meter 56 must be attached to this pool\n",
      "\n",
      "\n",
      "External Bammel  - Meter 56                             012-27049-02-001 \n",
      "Transport                                                         \n",
      "012-27049-02-001/Transport/I/1/E\n",
      "Meter 56 must be \n",
      "attached                                                                      \n",
      "                                                                          \n",
      "Transport Imbalance\n",
      "\n",
      "\n",
      "\n",
      "The HPLC transport in or out of storage should be pathed as follows\n",
      "\n",
      "INJECTION\n",
      "\n",
      "Source                                                                    \n",
      "Path                                                                          \n",
      "                            Destination\n",
      "\n",
      "012-41500-02-015/Transport/I/1/E               \n",
      "012-41500-02-015                                                              \n",
      "                 External Bammel  - Meter 57\n",
      "Transport \n",
      "Imbalance                                                                     \n",
      "                                                                              \n",
      "      Meter 57 must be attached to this pool\n",
      "\n",
      "\n",
      "WITHDRAWL\n",
      "\n",
      "External Bammel  - Meter 57                        \n",
      "012-41500-02-015                                                              \n",
      "                  012-41500-02-015/Transport/I/1/E \n",
      "Meter 57 must be attached to this \n",
      "pool                                                                          \n",
      "                                             Transport Imbalance\n",
      "\n",
      "\n",
      "\n",
      "   \n",
      "\n"
     ]
    }
   ],
   "source": [
    "email = test[\"Content\"][1]\n",
    "print(email)"
   ]
  },
  {
   "cell_type": "markdown",
   "metadata": {},
   "source": [
    "## Score it"
   ]
  },
  {
   "cell_type": "code",
   "execution_count": 10,
   "metadata": {},
   "outputs": [
    {
     "data": {
      "text/plain": [
       "0.9408911390119612"
      ]
     },
     "execution_count": 10,
     "metadata": {},
     "output_type": "execute_result"
    }
   ],
   "source": [
    "erank.score(email)"
   ]
  },
  {
   "cell_type": "code",
   "execution_count": 11,
   "metadata": {},
   "outputs": [
    {
     "data": {
      "text/plain": [
       "False"
      ]
     },
     "execution_count": 11,
     "metadata": {},
     "output_type": "execute_result"
    }
   ],
   "source": [
    "erank.is_important(email)"
   ]
  },
  {
   "cell_type": "markdown",
   "metadata": {
    "collapsed": true
   },
   "source": [
    "# General classifier evaluation"
   ]
  },
  {
   "cell_type": "code",
   "execution_count": 12,
   "metadata": {},
   "outputs": [
    {
     "name": "stdout",
     "output_type": "stream",
     "text": [
      "True Positives:  35\n",
      "True Negatives:  135\n",
      "False Positives:  66\n",
      "False Negatives:  64\n",
      "Accuracy: 0.5666666666666667\n",
      "Precision: 0.3465346534653465\n",
      "Recall: 0.35353535353535354\n"
     ]
    }
   ],
   "source": [
    "tp = 0\n",
    "tn = 0\n",
    "fp = 0\n",
    "fn = 0\n",
    "\n",
    "for idx in range(len(test[\"Content\"])):\n",
    "    classifier_pred = erank.is_important((test[\"Content\"][idx]))\n",
    "    true_value = test[\"Important\"][idx]\n",
    "    \n",
    "    if (classifier_pred == true_value):\n",
    "        if (classifier_pred == True):\n",
    "            tp = tp + 1\n",
    "        else:\n",
    "            tn = tn + 1\n",
    "    else:\n",
    "        if (classifier_pred == True):\n",
    "            fp = fp + 1\n",
    "        else:\n",
    "            fn = fn + 1\n",
    "            \n",
    "print(\"True Positives: \", tp)\n",
    "print(\"True Negatives: \", tn)\n",
    "print(\"False Positives: \", fp)\n",
    "print(\"False Negatives: \", fn)\n",
    "\n",
    "print(\"Accuracy:\", (tp+tn)/len(test[\"Content\"]))\n",
    "print(\"Precision:\", tp/(tp+fp))\n",
    "print(\"Recall:\", tp/(tp+fn))"
   ]
  },
  {
   "cell_type": "code",
   "execution_count": null,
   "metadata": {
    "collapsed": true
   },
   "outputs": [],
   "source": []
  }
 ],
 "metadata": {
  "kernelspec": {
   "display_name": "Python 3",
   "language": "python",
   "name": "python3"
  },
  "language_info": {
   "codemirror_mode": {
    "name": "ipython",
    "version": 3
   },
   "file_extension": ".py",
   "mimetype": "text/x-python",
   "name": "python",
   "nbconvert_exporter": "python",
   "pygments_lexer": "ipython3",
   "version": "3.6.0"
  },
  "toc": {
   "colors": {
    "hover_highlight": "#DAA520",
    "navigate_num": "#000000",
    "navigate_text": "#333333",
    "running_highlight": "#FF0000",
    "selected_highlight": "#FFD700",
    "sidebar_border": "#EEEEEE",
    "wrapper_background": "#FFFFFF"
   },
   "moveMenuLeft": true,
   "nav_menu": {
    "height": "12px",
    "width": "252px"
   },
   "navigate_menu": true,
   "number_sections": true,
   "sideBar": true,
   "threshold": 4,
   "toc_cell": false,
   "toc_section_display": "block",
   "toc_window_display": false,
   "widenNotebook": false
  }
 },
 "nbformat": 4,
 "nbformat_minor": 2
}
